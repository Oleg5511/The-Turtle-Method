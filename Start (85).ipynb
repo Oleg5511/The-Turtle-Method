{
 "cells": [
  {
   "cell_type": "markdown",
   "id": "273842e2",
   "metadata": {},
   "source": [
    "# Описание\n",
    "Данный алгоритм тестировался только на американских акций, без учета российских."
   ]
  },
  {
   "cell_type": "markdown",
   "id": "5925636b",
   "metadata": {},
   "source": [
    "# Imports"
   ]
  },
  {
   "cell_type": "code",
   "execution_count": 1,
   "id": "f25e9d7b",
   "metadata": {},
   "outputs": [
    {
     "name": "stderr",
     "output_type": "stream",
     "text": [
      "C:\\Users\\ogurskiy\\AppData\\Local\\Programs\\Python\\Python310\\lib\\site-packages\\mpl_finance.py:16: DeprecationWarning: \n",
      "\n",
      "  =================================================================\n",
      "\n",
      "   WARNING: `mpl_finance` is deprecated:\n",
      "\n",
      "    Please use `mplfinance` instead (no hyphen, no underscore).\n",
      "\n",
      "    To install: `pip install --upgrade mplfinance` \n",
      "\n",
      "   For more information, see: https://pypi.org/project/mplfinance/\n",
      "\n",
      "  =================================================================\n",
      "\n",
      "  __warnings.warn('\\n\\n  ================================================================='+\n"
     ]
    },
    {
     "data": {
      "text/html": [
       "<style>.container { width:80% !important; }</style>"
      ],
      "text/plain": [
       "<IPython.core.display.HTML object>"
      ]
     },
     "metadata": {},
     "output_type": "display_data"
    }
   ],
   "source": [
    "import csv\n",
    "import cProfile\n",
    "import operator\n",
    "from itertools import zip_longest\n",
    "import statsmodels.api as sm\n",
    "from statsmodels.iolib.table import SimpleTable\n",
    "from mpl_finance import candlestick2_ohlc \n",
    "# %run tinkoff_connection.ipynb\n",
    "import psutil\n",
    "# from IPython.core.display import display, HTML\n",
    "from IPython.display import display, HTML\n",
    "display(HTML(\"<style>.container { width:80% !important; }</style>\"))"
   ]
  },
  {
   "cell_type": "code",
   "execution_count": 2,
   "id": "cf6a1db8",
   "metadata": {},
   "outputs": [
    {
     "data": {
      "text/plain": [
       "{'total': 8121290752,\n",
       " 'available': 2124730368,\n",
       " 'percent': 73.8,\n",
       " 'used': 5996560384,\n",
       " 'free': 2124730368}"
      ]
     },
     "execution_count": 2,
     "metadata": {},
     "output_type": "execute_result"
    }
   ],
   "source": [
    "#!/usr/bin/env python\n",
    "\n",
    "# gives a single float value\n",
    "psutil.cpu_percent()\n",
    "# gives an object with many fields\n",
    "psutil.virtual_memory()\n",
    "# you can convert that object to a dictionary \n",
    "dict(psutil.virtual_memory()._asdict())"
   ]
  },
  {
   "cell_type": "code",
   "execution_count": null,
   "id": "0372e9e7",
   "metadata": {},
   "outputs": [],
   "source": [
    "del data_miss"
   ]
  },
  {
   "cell_type": "markdown",
   "id": "bf2ef85a",
   "metadata": {},
   "source": [
    "# Вызовы общих функций"
   ]
  },
  {
   "cell_type": "markdown",
   "id": "d8316292",
   "metadata": {},
   "source": [
    "## Запись в csv"
   ]
  },
  {
   "cell_type": "code",
   "execution_count": null,
   "id": "9d799ae3",
   "metadata": {
    "scrolled": true
   },
   "outputs": [],
   "source": [
    "def pretrain_df():\n",
    "    \"\"\"Функция для подготовки данных для алгоритма, использующего датафреймы в качестве табилиц (удобно, но медленно)\"\"\"\n",
    "    %run tinkoff_connection.ipynb\n",
    "#     df_sh = get_stocks() # Получение полной(сектор, figi и тд) информации по акциям онлайн\n",
    "#     get_stocks_to_CSV(df_sh) # Запись полной(сектор, figi и тд) информации по акциям в .CSV\n",
    "\n",
    "    stocks_info = get_stocksinfo_from_CSV() # Получение полной(сектор, figi и тд) информации по всем тикера ОФФЛАЙН\n",
    "\n",
    "#     date_from = datetime.datetime(1921, 1, 10)\n",
    "#     date_to = datetime.datetime(2022, 4, 30)\n",
    "    usd_stocks, rub_stocks = rub_usd(stocks_info) # Разделение списка акций на российские и иностранные\n",
    "    print('stocks_list_all')\n",
    "    stocks_list_all = list(usd_stocks.loc[:,'Ticker']) #Список тикеров интересующих акций\n",
    "    usd_stocks.columns = ['FIGI', 'Ticker', 'Class_code', 'Isin', 'Lot', 'Currency',\n",
    "                          'Klong', 'Kshort', 'Dlong', 'Dshort', 'Dlong_min', 'Dshort_min', \n",
    "                          'Short_enabled_flag', 'Name', 'Exchange', 'Ipo_date', 'Issue_size', \n",
    "                          'Country_of_risk', 'Country_of_risk_name', 'Sector', 'Issue_size_plan',\n",
    "                          'Nominal', 'Trading_status', 'Otc_flag', 'Buy_available_flag', 'Sell_available_flag',\n",
    "                          'Div_yield_flag', 'Share_type', 'Min_price_increment', 'Api_trade_available_flag']\n",
    "    print('create_stocks_dict_full')\n",
    "    stocks_dict_full_all = create_stocks_dict_full(stocks_list_all, # создание словаря с выбранными акциями онлайн\n",
    "                                                       usd_stocks, \n",
    "                                                       1, #add_corr_N\n",
    "                                                       1997) # С какого года начинать\n",
    "\n",
    "        \n",
    "    quotes_to_csv(stocks_dict_full_all, 'dict_stocks_23062022') # Запись котировок акций в .CSV\n",
    "\n",
    "#     stocks_dict_full_csv = quotes_from_csv() # Получения словаря акций, где ключ - тикер, а значение - ДФ котировок\n",
    "#     usd_stocks, rub_stocks = rub_usd(stocks_info) # Разделение списка акций на российские и иностранные\n",
    "#     stocks_list_all = list(usd_stocks.loc[:,'Ticker']) #Список тикеров интересующих акций\n",
    "\n",
    "#     return error_ticker\n",
    "#     return  stocks_info, stocks_dict_full_csv, usd_stocks\n",
    "\n",
    "# pretrain_df()\n",
    "# stocks_info, stocks_dict_full_csv_big, usd_stocks = pretrain_df()"
   ]
  },
  {
   "cell_type": "markdown",
   "id": "27376ba5",
   "metadata": {},
   "source": [
    "## Импорт из csv"
   ]
  },
  {
   "cell_type": "code",
   "execution_count": 10,
   "id": "ca24eddc",
   "metadata": {},
   "outputs": [
    {
     "data": {
      "text/html": [
       "<style>.container { width:75% !important; }</style>"
      ],
      "text/plain": [
       "<IPython.core.display.HTML object>"
      ]
     },
     "metadata": {},
     "output_type": "display_data"
    },
    {
     "name": "stdout",
     "output_type": "stream",
     "text": [
      "18537\n"
     ]
    },
    {
     "name": "stderr",
     "output_type": "stream",
     "text": [
      "C:\\Users\\ogurskiy\\AppData\\Local\\Temp\\ipykernel_3796\\1633834761.py:11: DtypeWarning: Columns (1,2,3,5,7,8,10,11,12,16,17,18,19,20,21,24,25,26,27,29,30,31,32,33,34,36,38,39,40,41,42,43,44,45,49,50,51,52,53,54,55,56,57,59,60,61,62,64,66,68,70,71,73,75,76,78,80,81,82,83,84,85,86,87,89,90,91,93,94,95,96,97,98,99,100,101,102,105,106,107,108,110,111,112,113,114,115,116,118,119,120,121,122,123,124,125,126,135,136,137,138,139,140,141,142,143,144,145,148,151,153,154,155,156,157,158,159,160,164,165,166,168,170,172,173,174,176,178,179,180,181,182,183,184,185,187,188,189,191,194,196,197,198,199,200,203,205,206,207,209,211,212,213,217,218,220,221,222,223,224,225,226,228,229,230,231,232,233,234,235,236,237,238,239,240,241,242,243,244,245,246,249,251,252,253,256,257,258,259,260,261,262,263,264,265,266,267,268,269,270,272,273,274,275,277,279,280,281,283,285,286,287,288,289,291,298,299,300,301,303,304,305,307,308,310,312,313,314,315,317,319,323,325,326,327,328,329,331,332,333,334,336,338,339,340,341,342,344,345,346,353,354,355,356,357,359,360,361,362,363,364,365,366,369,370,371,372,373,374,375,376,379,380,382,383,385,386,387,389,390,391,392,394,395,396,397,399,401,406,407,408,409,411,412,416,417,418,419,421,422,423,424,425,426,428,429,430,432,433,435,436,444,446,448,450,453,455,456,458,460,461,462,463,465,466,470,471,472,473,474,475,476,477,478,480,483,488,490,491,492,493,494,496,497,498,500,503,504,505,506,507,508,511,512,513,514,515,516,517,518,519,520,521,522,523,524,526,527,528,530,531,532,533,534,536,538,539,541,542,543,544,545,546,547,548,549,550,551,552,553,554,555,559,560,561,562,563,564,565,566,568,570,571,572,573,575,576,577,578,579,580,582,583,584,585,586,587,588,589,590,591,592,593,594,595,596,597,598,599,602,604,605,606,607,608,609,611,613,615,616,618,619,620,622,625,629,630,631,632,633,634,635,636,639,640,641,642,643,645,647,648,650,652,655,656,657,658,659,661,662,663,664,665,668,669,670,672,675,678,679,680,681,683,684,685,686,687,688,689,690,691,692,694,695,697,698,699,700,701,702,703,704,705,706,707,708,709,710,711,712,713,714,716,718,720,722,723,724,726,727,728,729,730,731,732,734,735,737,738,740,741,743,744,745,746,747,748,750,751,752,754,756,757,759,761,762,763,764,765,766,770,772,774,776,777,778,780,781,782,783,784,785,786,787,789,792,793,794,795,796,798,799,801,803,804,805,808,811,812,813,814,815,817,818,819,820,821,823,825,826,827,828,831,832,833,834,836,838,839,840,841,842,844,847,848,849,851,852,854,856,857,858,860,861,863,864,865,866,867,868,869,870,871,872,873,874,877,878,879,880,881,882,883,885,887,888,889,890,893,894,897,898,899,900,901,903,904,905,907,909,911,913,914,915,916,917,919,921,922,923,924,925,926,929,930,931,932,933,934,935,936,938,939,940,941,944,945,946,947,948,949,950,951,953,954,955,956,957,960,961,963,964,965,966,968,969,971,974,975,976,979,980,981,982,983,984,985,988,989,990,991,992,994,996,1003,1004,1007,1009,1010,1011,1012,1013,1014,1017,1019,1020,1021,1023,1024,1025,1026,1027,1028,1029,1030,1033,1035,1036,1038,1039,1040,1041,1042,1045,1046,1047,1048,1049,1051,1052,1053,1054,1055,1057,1059,1060,1062,1063,1065,1066,1067,1068,1069,1070,1071,1072,1073,1074,1075,1076,1077,1078,1079,1080,1084,1089,1091,1093,1095,1096,1097,1098,1100,1102,1103,1104,1105,1106,1107,1108,1111,1113,1114,1115,1118,1120,1122,1123,1125,1126,1127,1128,1129,1130,1132,1133,1135,1136,1138,1139,1140,1141,1143,1145,1147,1148,1149,1150,1151,1152,1153,1154,1156,1157,1158,1160,1161,1162,1163,1165,1167,1168,1169,1170,1172,1173,1174,1175,1176,1178,1180,1181,1182,1183,1184,1187,1189,1191,1192,1193,1194,1195,1196,1197,1199,1200,1202,1205,1206,1207,1208,1209,1210,1211,1212,1215,1217,1218,1219,1220,1222,1223,1224,1225,1227,1228,1231,1232,1233,1234,1235,1236,1239,1241,1242,1243,1244,1246,1247,1248,1249,1250,1253,1254,1255,1256,1258,1259,1260,1261,1263,1264,1266,1267,1268,1269,1270,1271,1272,1273,1274,1275,1276,1277,1278,1279,1281,1282,1284,1285,1286,1288,1290,1292,1293,1295,1297,1300,1301,1302,1304,1305,1307,1309,1312,1313,1314,1315,1317,1318,1320,1322,1323,1324,1330,1331,1333,1335,1336,1337,1338,1339,1340,1342,1343,1345,1346,1347,1348,1350,1351,1352,1355,1356,1357,1358,1359,1361,1362,1363,1364,1365,1366,1367,1369,1371,1375,1376,1377,1379,1383,1384,1385,1386,1387,1389,1390,1392,1394,1397,1399,1401,1403,1404,1407,1408,1409,1410,1411,1413,1414,1415,1416,1417,1419,1420,1421,1422,1423,1424,1425,1426,1427,1428,1429,1431,1432,1434,1436,1437,1438,1440,1442,1443,1444,1445,1447,1449,1450,1451,1452,1453,1455,1456,1458,1460,1462,1464,1465,1467,1468,1469,1470,1471,1473,1474,1475,1476,1477,1478,1480,1481,1482,1483,1484,1485,1486,1487,1488,1489,1490,1492,1493,1496,1497,1498,1499,1500,1503,1504,1505,1509,1510,1512,1514,1517,1518,1519,1520,1521,1522,1524,1526,1527,1528,1529,1530,1531,1533,1535,1536,1537,1538,1541,1542,1543,1544,1545,1546,1547,1548,1551,1552,1554,1556,1557,1560,1561,1562,1564,1565,1566,1567,1569,1570,1571,1572,1573,1574,1576,1579,1580,1582,1583,1584,1585,1586,1587,1589,1590,1591,1592,1593,1594,1596,1598,1600,1601,1604,1605,1606,1609,1610,1613,1614,1615,1616) have mixed types. Specify dtype option on import or set low_memory=False.\n",
      "  data = pd.read_csv(r'C:\\Users\\ogurskiy\\Desktop\\DF\\{}.csv'.format(file_name), sep=';')\n",
      "100%|██████████████████████████████████████████████████████████████████████████████| 1617/1617 [03:34<00:00,  7.56it/s]\n"
     ]
    }
   ],
   "source": [
    "def pretrain_df():\n",
    "    \"\"\"Функция для подготовки данных для алгоритма, использующего датафреймы в качестве табилиц (удобно, но медленно)\"\"\"\n",
    "    %run tinkoff_connection.ipynb\n",
    "    import warnings\n",
    "#     df_sh = get_stocks() # Получение полной(сектор, figi и тд) информации по акциям онлайн\n",
    "#     get_stocks_to_CSV(df_sh) # Запись полной(сектор, figi и тд) информации по акциям в .CSV\n",
    "\n",
    "    stocks_info = get_stocksinfo_from_CSV() # Получение полной(сектор, figi и тд) информации по всем тикера ОФФЛАЙН\n",
    "\n",
    "#     date_from = datetime.datetime(1921, 1, 10)\n",
    "#     date_to = datetime.datetime(2022, 4, 30)\n",
    "    usd_stocks, rub_stocks = rub_usd(stocks_info) # Разделение списка акций на российские и иностранные\n",
    "#     print('stocks_list_all')\n",
    "#     stocks_list_all = list(usd_stocks.loc[:,'Ticker']) #Список тикеров интересующих акций\n",
    "#     usd_stocks.columns = ['FIGI', 'Ticker', 'Class_code', 'Isin', 'Lot', 'Currency',\n",
    "#                           'Klong', 'Kshort', 'Dlong', 'Dshort', 'Dlong_min', 'Dshort_min', \n",
    "#                           'Short_enabled_flag', 'Name', 'Exchange', 'Ipo_date', 'Issue_size', \n",
    "#                           'Country_of_risk', 'Country_of_risk_name', 'Sector', 'Issue_size_plan',\n",
    "#                           'Nominal', 'Trading_status', 'Otc_flag', 'Buy_available_flag', 'Sell_available_flag',\n",
    "#                           'Div_yield_flag', 'Share_type', 'Min_price_increment', 'Api_trade_available_flag']\n",
    "#     print('create_stocks_dict_full')\n",
    "#     stocks_dict_full_all = create_stocks_dict_full(stocks_list_all, \n",
    "#                                                    usd_stocks, \n",
    "# #                                                    date_from, \n",
    "# #               й                                     date_to,\n",
    "#                                                    1, #add_corr_N\n",
    "#                                                    1980) #создание словаря с выбранными акциями онлайн\n",
    "\n",
    "#     error_ticker = quotes_to_csv(stocks_dict_full_all) # Запись котировок акций в .CSV\n",
    "\n",
    "    stocks_dict_full_csv_big = quotes_from_csv('dict_stocks_23062022') # Получения словаря акций, где ключ - тикер, а значение - ДФ котировок\n",
    "#     usd_stocks, rub_stocks = rub_usd(stocks_info) # Разделение списка акций на российские и иностранные\n",
    "#     stocks_list_all = list(usd_stocks.loc[:,'Ticker']) #Список тикеров интересующих акций\n",
    "\n",
    "#     display(usd_stocks.columns)\n",
    "#     return error_ticker\n",
    "    return  stocks_info, stocks_dict_full_csv_big, usd_stocks\n",
    "stocks_info, stocks_dict_full_csv_big, usd_stocks = pretrain_df()"
   ]
  },
  {
   "cell_type": "markdown",
   "id": "0e0eabec",
   "metadata": {},
   "source": [
    "## Добавление метрик"
   ]
  },
  {
   "cell_type": "code",
   "execution_count": 12,
   "id": "fc08a0b0",
   "metadata": {},
   "outputs": [],
   "source": [
    "# %run tinkoff_connection.ipynb\n",
    "# arr_stocks_dict_full_csv_2 = arr_normalized_volume_osc(stocks_dict_full_csv)\n",
    "# test_dict = {'F' : stocks_dict_full_csv['F']}\n",
    "def add_custom_metrics(stocks_dict_full_csv):\n",
    "    \"\"\" Функция добавляет разные метрики в словарь котировок\"\"\"\n",
    "    new_stocks_dict_full_csv = {}\n",
    "    for key in tqdm(stocks_dict_full_csv.keys()):\n",
    "        data = stocks_dict_full_csv[key]\n",
    "        data = data.reset_index(drop=True)\n",
    "        for i in range(25, len(data), 1):\n",
    "#             print(data)\n",
    "            data.loc[i,'N'] = data.loc[i-3:i-1,'N'].mean()\n",
    "        data.index = data['Date']\n",
    "        new_stocks_dict_full_csv[key] = data\n",
    "    return new_stocks_dict_full_csv\n",
    "\n",
    "# stocks_dict_full_csv_big_1 = add_custom_metrics(stocks_dict_full_csv_big)\n"
   ]
  },
  {
   "cell_type": "markdown",
   "id": "41a29d07",
   "metadata": {},
   "source": [
    "## Исследование волатильности"
   ]
  },
  {
   "cell_type": "markdown",
   "id": "f87ac9a3",
   "metadata": {},
   "source": [
    "Идея в том, что не очень большое количество сделок с волатильностью больше 20% может дать ощутимую прибыль, которая перекроет собой затраты на открытие неприбыльных опционов"
   ]
  },
  {
   "cell_type": "code",
   "execution_count": null,
   "id": "c4a27c70",
   "metadata": {},
   "outputs": [],
   "source": [
    " def volatility_research(stocks_dict_full_csv_big, ticker):\n",
    "    df = pd.DataFrame(data=stocks_dict_full_csv_big[ticker].tail(700), columns=stocks_dict_full_csv_big[ticker].columns)\n",
    "    df.loc[:,'Date'] = pd.to_datetime(df.loc[:,'Date'])#- pd.to_timedelta(21, unit='d')\n",
    "    # data.index = pd.to_datetime(data.index, unit='s')\n",
    "\n",
    "    df_max = df.groupby(pd.Grouper(key='Date', freq='M'))['Open'].max()#.reset_index().sort_values('Date')\n",
    "    df_min = df.groupby(pd.Grouper(key='Date', freq='M'))['Close'].min()#.reset_index().sort_values('Date')\n",
    "    min_open = df.groupby(pd.Grouper(key='Date', freq='M'))['High'].mean()\n",
    "\n",
    "\n",
    "\n",
    "    volatility = [round((k - j) / l, 4) for k, j, l in zip(list(df_max), list(df_min), list(min_open))]\n",
    "    volatility_df = pd.DataFrame(data=volatility, columns=['Volatility'])\n",
    "    # display(list(df_max))\n",
    "    # display(list(df_min))\n",
    "    # display(list(min_open))\n",
    "    print('Медиана', median(volatility))\n",
    "    display(volatility_df.describe())\n",
    "    plt.hist(volatility_df, density=True, bins=15)\n",
    "    plt.show()\n",
    "    display(df)\n",
    "    \n",
    "# volatility_research(stocks_dict_full_csv_big, 'SAVA')"
   ]
  },
  {
   "cell_type": "markdown",
   "id": "6a56df7d",
   "metadata": {},
   "source": [
    "1. При медианной волатильности >20% для того чтобы получать прибыль соотношение риск/профит должно быть минимум больше чем 1к1. При этом, значении медианной волатильности должно обеспечивать максимальную прибыль по позиции с ограниченным профитом, типа бабочки"
   ]
  },
  {
   "cell_type": "markdown",
   "id": "4689f43f",
   "metadata": {},
   "source": [
    "##Поиск волатильных акций"
   ]
  },
  {
   "cell_type": "code",
   "execution_count": null,
   "id": "c9975a59",
   "metadata": {},
   "outputs": [],
   "source": [
    "def volatility_stocks(stocks_dict_full_csv_big):\n",
    "    \"\"\"Функция  ищет волатильные акции\"\"\"\n",
    "    dict_stocks_volatility = {}\n",
    "    for ticker in tqdm(stocks_dict_full_csv_big.keys()):\n",
    "        df = stocks_dict_full_csv_big[ticker].tail(700)\n",
    "        df['Date'] = pd.to_datetime(df['Date'])\n",
    "\n",
    "        df_max = df.groupby(pd.Grouper(key='Date', freq='M'))['Open'].max()#.reset_index().sort_values('Date')\n",
    "        df_min = df.groupby(pd.Grouper(key='Date', freq='M'))['Close'].min()#.reset_index().sort_values('Date')\n",
    "        min_open = df.groupby(pd.Grouper(key='Date', freq='M'))['Open'].max()\n",
    "\n",
    "        volatility = median([round((k - j) / l, 4) for k, j, l in zip(list(df_max), list(df_min), list(min_open))])\n",
    "        dict_stocks_volatility[ticker] = volatility\n",
    "    print(sorted(dict_stocks_volatility.items(), key=operator.itemgetter(1), reverse=True))\n",
    "#     sorted(dict1, key=dict1.get).\n",
    "# volatility_stocks(stocks_dict_full_csv_big)"
   ]
  },
  {
   "cell_type": "markdown",
   "id": "cc841672",
   "metadata": {},
   "source": [
    "Вывод: Волатильные акции потенциально могут давать прибыль, если их цена выходит за пределы самоокупаемости опционов."
   ]
  },
  {
   "cell_type": "markdown",
   "id": "ab319ad3",
   "metadata": {},
   "source": [
    "# Перемешивание для тестирования "
   ]
  },
  {
   "cell_type": "code",
   "execution_count": 14,
   "id": "57ae0aec",
   "metadata": {},
   "outputs": [],
   "source": [
    "def shuffle_dict(stocks_dict_full_all, start, end):\n",
    "    \"\"\" Функция создает выборку из заданного количества тикеров (удобно для тестирования)\"\"\"\n",
    "    stocks_list_all = list(stocks_dict_full_all.keys())\n",
    "#     random.shuffle(stocks_list_all)\n",
    "    stocks_list = stocks_list_all[start:end]\n",
    "    stocks_dict_full = {}\n",
    "    for ticker in stocks_list:\n",
    "        stocks_dict_full[ticker] = stocks_dict_full_all[ticker]\n",
    "    return stocks_list, stocks_dict_full\n",
    "\n",
    "# def arr_shuffle_dict(stocks_dict_full_all, start, end):\n",
    "#     \"\"\" Функция создает выборку из заданного количества тикеров (удобно для тестирования) ARRAY\"\"\"\n",
    "#     stocks_list_all = list(stocks_dict_full_all.keys())\n",
    "# #     random.shuffle(stocks_list_all)\n",
    "#     stocks_list = stocks_list_all[start:end]\n",
    "#     stocks_dict_full = {}\n",
    "#     for ticker in stocks_list:\n",
    "#         stocks_dict_full[ticker] = stocks_dict_full_all[ticker]\n",
    "#     return stocks_list, stocks_dict_full"
   ]
  },
  {
   "cell_type": "markdown",
   "id": "0ff8bece",
   "metadata": {},
   "source": [
    "#  Вызовы "
   ]
  },
  {
   "cell_type": "markdown",
   "id": "f00a8bb1",
   "metadata": {},
   "source": [
    "## dataframe"
   ]
  },
  {
   "cell_type": "code",
   "execution_count": null,
   "id": "254c9048",
   "metadata": {},
   "outputs": [],
   "source": [
    "%%time\n",
    "%run tinkoff_connection.ipynb\n",
    "import warnings\n",
    "\n",
    "display(HTML(\"<style>div.output_scroll { height: 10000; }</style>\"))\n",
    "\n",
    "profits_all = {}\n",
    "# year_from = 1997\n",
    "# stocks_list, stocks_dict_full = shuffle_dict(stocks_dict_full_csv, 200)\n",
    "# pov = {'NAVI' : stocks_dict_full_csv_big['NAVI']}\n",
    "\n",
    "\n",
    "pd.set_option('display.max_columns', None)\n",
    "# display(stocks_dict_full_csv_big['F'].loc[date_from:date_to, :])\n",
    "for i in range(0, 600, 100):\n",
    "    print(i, i+100)\n",
    "    plt.show()\n",
    "    stocks_list, stocks_dict_full = shuffle_dict(stocks_dict_full_csv_big, i, i+100)\n",
    "    warnings.filterwarnings(\"ignore\")\n",
    "    data_pos_test11, profit_test11 = open_turtles(\n",
    "                                    usd_stocks, \n",
    "                                    stocks_list,\n",
    "                                    stocks_dict_full,\n",
    "                                    deposit = 100000,\n",
    "                                    corr_stop_loss = 3,\n",
    "                                    corr_unit_size = 1, \n",
    "                                    add_corr_N = 1, # Коэфициент изменения N\n",
    "                                    count_direct = 3000,\n",
    "                                    count_sector = 1500,\n",
    "                                    count_all = 6000, \n",
    "                                    count_ticker = 4,\n",
    "                                    dev_max_long = 0,# Насколько от максимума может быть отклонение N\n",
    "                                    min_max_period = 0, # Закрытие на минимуме или максимуме за определенный период(кол-во дней)\n",
    "                                    delta_N_add = 0.5,\n",
    "                                    year_from = 2021,\n",
    "                                    year_to = 2021,\n",
    "                                    period = 20, # Период, за который ищется предыдущий ОБЩИЙ прорыв\n",
    "                                    n_range_min = -1000, # Нижний диапазон N при открытии сделки \n",
    "                                    n_range_max = 1000, # Верхний диапазон N при открытии сделки \n",
    "                                    mmd_period = 30, # Период, за который рассчитывается диапазон (min-max) / (min+max)\n",
    "                                    breakout_period = 30,\n",
    "                                    write_to_csv = False) # Период, за который ищется прорыв\n",
    "#     analysis_one_stock('IDCC', data_pos_test, data_pos_pivot_test, stocks_dict_full)"
   ]
  },
  {
   "cell_type": "code",
   "execution_count": 165,
   "id": "fbc137cd",
   "metadata": {},
   "outputs": [
    {
     "data": {
      "text/html": [
       "<style>.container { width:75% !important; }</style>"
      ],
      "text/plain": [
       "<IPython.core.display.HTML object>"
      ]
     },
     "metadata": {},
     "output_type": "display_data"
    },
    {
     "name": "stdout",
     "output_type": "stream",
     "text": [
      "18537\n"
     ]
    },
    {
     "data": {
      "text/html": [
       "<style>div.output_scroll { height: 10000; }</style>"
      ],
      "text/plain": [
       "<IPython.core.display.HTML object>"
      ]
     },
     "metadata": {},
     "output_type": "display_data"
    },
    {
     "name": "stderr",
     "output_type": "stream",
     "text": [
      "100%|██████████████████████████████████████████████████████████████████████████████| 258/258 [1:44:12<00:00, 24.24s/it]\n"
     ]
    },
    {
     "data": {
      "text/plain": [
       "'Открытые сделки'"
      ]
     },
     "metadata": {},
     "output_type": "display_data"
    },
    {
     "data": {
      "text/html": [
       "<div>\n",
       "<style scoped>\n",
       "    .dataframe tbody tr th:only-of-type {\n",
       "        vertical-align: middle;\n",
       "    }\n",
       "\n",
       "    .dataframe tbody tr th {\n",
       "        vertical-align: top;\n",
       "    }\n",
       "\n",
       "    .dataframe thead th {\n",
       "        text-align: right;\n",
       "    }\n",
       "</style>\n",
       "<table border=\"1\" class=\"dataframe\">\n",
       "  <thead>\n",
       "    <tr style=\"text-align: right;\">\n",
       "      <th></th>\n",
       "      <th>Id</th>\n",
       "      <th>Ticker</th>\n",
       "      <th>Sector</th>\n",
       "      <th>Direct</th>\n",
       "      <th>Lot</th>\n",
       "      <th>Size/money_unit</th>\n",
       "      <th>Date/price_open</th>\n",
       "      <th>Date/price_close</th>\n",
       "      <th>Criterion</th>\n",
       "      <th>Profit</th>\n",
       "      <th>ATR</th>\n",
       "      <th>N</th>\n",
       "      <th>SMA</th>\n",
       "      <th>MI</th>\n",
       "      <th>%BB</th>\n",
       "    </tr>\n",
       "  </thead>\n",
       "  <tbody>\n",
       "  </tbody>\n",
       "</table>\n",
       "</div>"
      ],
      "text/plain": [
       "Empty DataFrame\n",
       "Columns: [Id, Ticker, Sector, Direct, Lot, Size/money_unit, Date/price_open, Date/price_close, Criterion, Profit, ATR, N, SMA, MI, %BB]\n",
       "Index: []"
      ]
     },
     "metadata": {},
     "output_type": "display_data"
    },
    {
     "name": "stdout",
     "output_type": "stream",
     "text": [
      "-------------------------------------\n",
      "Уникальных инструментов:444/444\n",
      "Profit: -462.3400000002072\n",
      "Максимальное колличество юнитов: 4\n",
      "Сумма и колличество одновременно открытых сделок: (913355.73, 538.2663)\n",
      "CPU times: total: 33min 12s\n",
      "Wall time: 1h 44min 19s\n"
     ]
    }
   ],
   "source": [
    "%%time\n",
    "%run tinkoff_connection.ipynb\n",
    "import warnings\n",
    "\n",
    "display(HTML(\"<style>div.output_scroll { height: 10000; }</style>\"))\n",
    "\n",
    "profits_all = {}\n",
    "# year_from = 1997\n",
    "# stocks_list, stocks_dict_full = shuffle_dict(stocks_dict_full_csv, 200)\n",
    "pov = {'NAVI' : stocks_dict_full_csv_big['NAVI']}\n",
    "\n",
    "\n",
    "pd.set_option('display.max_columns', None)\n",
    "# display(stocks_dict_full_csv_big['F'].loc[date_from:date_to, :])\n",
    "for i in range(2015, 2016, 1):\n",
    "#     print(i*100, (i+1)*100)\n",
    "    plt.show()\n",
    "    stocks_list, stocks_dict_full = shuffle_dict(stocks_dict_full_csv_big, 0, 600)\n",
    "    warnings.filterwarnings(\"ignore\")\n",
    "    data_pos_test4, profit_test4 = open_turtles(\n",
    "                                    usd_stocks, \n",
    "                                    stocks_list,\n",
    "                                    stocks_dict_full,\n",
    "                                    deposit = 100000,\n",
    "                                    corr_stop_loss = 3,\n",
    "                                    corr_unit_size = 1, \n",
    "                                    add_corr_N = 1, # Коэфициент изменения N\n",
    "                                    count_direct = 300,\n",
    "                                    count_sector = 150,\n",
    "                                    count_all = 600, \n",
    "                                    count_ticker = 4,\n",
    "                                    dev_max_long = 2,# Насколько от максимума может быть отклонение N\n",
    "                                    min_max_period = 10, # Закрытие на минимуме или максимуме за определенный период(кол-во дней)\n",
    "                                    delta_N_add = 0.5,\n",
    "                                    year_from = 2021,\n",
    "                                    year_to = 2021,\n",
    "                                    period = 20, # Период, за который ищется предыдущий ОБЩИЙ прорыв\n",
    "                                    n_range_min = -1000, # Нижний диапазон N при открытии сделки \n",
    "                                    n_range_max = 1000, # Верхний диапазон N при открытии сделки \n",
    "                                    mmd_period = 30, # Период, за который рассчитывается диапазон (min-max) / (min+max)\n",
    "                                    breakout_period = 30,\n",
    "                                    write_to_csv = False) # Период, за который ищется прорыв\n",
    "#     analysis_one_stock('IDCC', data_pos_test, data_pos_pivot_test, stocks_dict_full)"
   ]
  },
  {
   "cell_type": "code",
   "execution_count": 162,
   "id": "9e1054d9",
   "metadata": {},
   "outputs": [
    {
     "data": {
      "text/html": [
       "<style>.container { width:75% !important; }</style>"
      ],
      "text/plain": [
       "<IPython.core.display.HTML object>"
      ]
     },
     "metadata": {},
     "output_type": "display_data"
    },
    {
     "name": "stdout",
     "output_type": "stream",
     "text": [
      "18537\n"
     ]
    },
    {
     "data": {
      "text/html": [
       "<style>div.output_scroll { height: 10000; }</style>"
      ],
      "text/plain": [
       "<IPython.core.display.HTML object>"
      ]
     },
     "metadata": {},
     "output_type": "display_data"
    },
    {
     "name": "stderr",
     "output_type": "stream",
     "text": [
      "  8%|██████▌                                                                          | 21/258 [00:00<00:04, 56.68it/s]"
     ]
    },
    {
     "name": "stdout",
     "output_type": "stream",
     "text": [
      "Прорыв был: 2021-01-15 . Сейчас число: 2021-01-19\n",
      "Прорыв был: 2021-01-15 . Сейчас число: 2021-01-22\n"
     ]
    },
    {
     "name": "stderr",
     "output_type": "stream",
     "text": [
      " 15%|████████████▏                                                                    | 39/258 [00:00<00:04, 49.14it/s]"
     ]
    },
    {
     "name": "stdout",
     "output_type": "stream",
     "text": [
      "Прорыв был: 2021-02-08 . Сейчас число: 2021-02-18\n"
     ]
    },
    {
     "name": "stderr",
     "output_type": "stream",
     "text": [
      "100%|████████████████████████████████████████████████████████████████████████████████| 258/258 [00:06<00:00, 40.84it/s]\n"
     ]
    },
    {
     "data": {
      "text/plain": [
       "'Открытые сделки'"
      ]
     },
     "metadata": {},
     "output_type": "display_data"
    },
    {
     "data": {
      "text/html": [
       "<div>\n",
       "<style scoped>\n",
       "    .dataframe tbody tr th:only-of-type {\n",
       "        vertical-align: middle;\n",
       "    }\n",
       "\n",
       "    .dataframe tbody tr th {\n",
       "        vertical-align: top;\n",
       "    }\n",
       "\n",
       "    .dataframe thead th {\n",
       "        text-align: right;\n",
       "    }\n",
       "</style>\n",
       "<table border=\"1\" class=\"dataframe\">\n",
       "  <thead>\n",
       "    <tr style=\"text-align: right;\">\n",
       "      <th></th>\n",
       "      <th>Id</th>\n",
       "      <th>Ticker</th>\n",
       "      <th>Sector</th>\n",
       "      <th>Direct</th>\n",
       "      <th>Lot</th>\n",
       "      <th>Size/money_unit</th>\n",
       "      <th>Date/price_open</th>\n",
       "      <th>Date/price_close</th>\n",
       "      <th>Criterion</th>\n",
       "      <th>Profit</th>\n",
       "      <th>ATR</th>\n",
       "      <th>N</th>\n",
       "      <th>SMA</th>\n",
       "      <th>MI</th>\n",
       "      <th>%BB</th>\n",
       "    </tr>\n",
       "  </thead>\n",
       "  <tbody>\n",
       "  </tbody>\n",
       "</table>\n",
       "</div>"
      ],
      "text/plain": [
       "Empty DataFrame\n",
       "Columns: [Id, Ticker, Sector, Direct, Lot, Size/money_unit, Date/price_open, Date/price_close, Criterion, Profit, ATR, N, SMA, MI, %BB]\n",
       "Index: []"
      ]
     },
     "metadata": {},
     "output_type": "display_data"
    },
    {
     "name": "stdout",
     "output_type": "stream",
     "text": [
      "-------------------------------------\n",
      "Уникальных инструментов:1/1\n",
      "Profit: 23778.16\n",
      "Максимальное колличество юнитов: 4\n",
      "Сумма и колличество одновременно открытых сделок: (27942.44, 4.0004)\n",
      "CPU times: total: 7.03 s\n",
      "Wall time: 7.02 s\n"
     ]
    }
   ],
   "source": [
    "%%time\n",
    "%run tinkoff_connection.ipynb\n",
    "import warnings\n",
    "\n",
    "display(HTML(\"<style>div.output_scroll { height: 10000; }</style>\"))\n",
    "\n",
    "profits_all = {}\n",
    "# year_from = 1997\n",
    "# stocks_list, stocks_dict_full = shuffle_dict(stocks_dict_full_csv, 200)\n",
    "pov = {'NAVI' : stocks_dict_full_csv_big['NAVI']}\n",
    "\n",
    "\n",
    "pd.set_option('display.max_columns', None)\n",
    "# display(stocks_dict_full_csv_big['F'].loc[date_from:date_to, :])\n",
    "for i in range(2015, 2016, 1):\n",
    "#     print(i*100, (i+1)*100)\n",
    "    plt.show()\n",
    "    stocks_list, stocks_dict_full = shuffle_dict(pov, 0, 200)\n",
    "    warnings.filterwarnings(\"ignore\")\n",
    "    data_pos_test, profit_test = open_turtles(\n",
    "                                    usd_stocks, \n",
    "                                    stocks_list,\n",
    "                                    stocks_dict_full,\n",
    "                                    deposit = 100000,\n",
    "                                    corr_stop_loss = 3,\n",
    "                                    corr_unit_size = 1, \n",
    "                                    add_corr_N = 1, # Коэфициент изменения N\n",
    "                                    count_direct = 300,\n",
    "                                    count_sector = 150,\n",
    "                                    count_all = 600, \n",
    "                                    count_ticker = 4,\n",
    "                                    dev_max_long = 0,# Насколько от максимума может быть отклонение N\n",
    "                                    min_max_period = 10, # Закрытие на минимуме или максимуме за определенный период(кол-во дней)\n",
    "                                    delta_N_add = 0.5,\n",
    "                                    year_from = 2021,\n",
    "                                    year_to = 2021,\n",
    "                                    period = 20, # Период, за который ищется предыдущий ОБЩИЙ прорыв\n",
    "                                    n_range_min = -1000, # Нижний диапазон N при открытии сделки \n",
    "                                    n_range_max = 1000, # Верхний диапазон N при открытии сделки \n",
    "                                    mmd_period = 30, # Период, за который рассчитывается диапазон (min-max) / (min+max)\n",
    "                                    breakout_period = 30,\n",
    "                                    write_to_csv = False) # Период, за который ищется прорыв\n",
    "#     analysis_one_stock('IDCC', data_pos_test, data_pos_pivot_test, stocks_dict_full)"
   ]
  },
  {
   "cell_type": "code",
   "execution_count": null,
   "id": "a20057c3",
   "metadata": {},
   "outputs": [],
   "source": [
    "%%time\n",
    "# %run tinkoff_connection.ipynb\n",
    "# print(data_pos_test1['Ticker'].unique()) # B7e03MgL Q-1309354 Kiuq1673626\n",
    "data_pos_test2 = BB4 (data_pos_test11)\n",
    "data_pos_test2 = data_pos_test2.astype({'Lot': np.float,'ATR': np.float,'Profit': np.float,'N': np.float,\n",
    "                                        'SMA': np.float,'MI': np.float,'%BB': np.float,'MBl': np.float,'MBs': np.float})"
   ]
  },
  {
   "cell_type": "code",
   "execution_count": 154,
   "id": "3ea47bc0",
   "metadata": {
    "scrolled": false
   },
   "outputs": [
    {
     "data": {
      "image/png": "[encoded data removed]",
      "text/plain": [
       "<Figure size 1440x864 with 1 Axes>"
      ]
     },
     "metadata": {
      "needs_background": "light"
     },
     "output_type": "display_data"
    },
    {
     "name": "stdout",
     "output_type": "stream",
     "text": [
      "Прибыль 23778.16\n"
     ]
    },
    {
     "data": {
      "text/html": [
       "<div>\n",
       "<style scoped>\n",
       "    .dataframe tbody tr th:only-of-type {\n",
       "        vertical-align: middle;\n",
       "    }\n",
       "\n",
       "    .dataframe tbody tr th {\n",
       "        vertical-align: top;\n",
       "    }\n",
       "\n",
       "    .dataframe thead th {\n",
       "        text-align: right;\n",
       "    }\n",
       "</style>\n",
       "<table border=\"1\" class=\"dataframe\">\n",
       "  <thead>\n",
       "    <tr style=\"text-align: right;\">\n",
       "      <th></th>\n",
       "      <th>Id</th>\n",
       "      <th>Ticker</th>\n",
       "      <th>Sector</th>\n",
       "      <th>Direct</th>\n",
       "      <th>Lot</th>\n",
       "      <th>Size/money_unit</th>\n",
       "      <th>Date/price_open</th>\n",
       "      <th>Date/price_close</th>\n",
       "      <th>Criterion</th>\n",
       "      <th>Profit</th>\n",
       "      <th>ATR</th>\n",
       "      <th>N</th>\n",
       "      <th>SMA</th>\n",
       "      <th>MI</th>\n",
       "      <th>%BB</th>\n",
       "    </tr>\n",
       "  </thead>\n",
       "  <tbody>\n",
       "    <tr>\n",
       "      <th>2021-01-06</th>\n",
       "      <td>0.01</td>\n",
       "      <td>NAVI</td>\n",
       "      <td>financial</td>\n",
       "      <td>Long</td>\n",
       "      <td>1</td>\n",
       "      <td>{416.0: 4521.92}</td>\n",
       "      <td>{2021-01-06: 10.87}</td>\n",
       "      <td>{2021-09-29: 21.25}</td>\n",
       "      <td>min of 10</td>\n",
       "      <td>4318.08</td>\n",
       "      <td>0.437575</td>\n",
       "      <td>0.4418</td>\n",
       "      <td>9.795</td>\n",
       "      <td>38.841089</td>\n",
       "      <td>1.065436</td>\n",
       "    </tr>\n",
       "    <tr>\n",
       "      <th>2021-01-19</th>\n",
       "      <td>0.02</td>\n",
       "      <td>NAVI</td>\n",
       "      <td>financial</td>\n",
       "      <td>Long</td>\n",
       "      <td>1</td>\n",
       "      <td>{384.0: 4327.68}</td>\n",
       "      <td>{2021-01-19: 11.27}</td>\n",
       "      <td>{2021-09-29: 21.25}</td>\n",
       "      <td>min of 10</td>\n",
       "      <td>3832.32</td>\n",
       "      <td>0.614561</td>\n",
       "      <td>0.46</td>\n",
       "      <td>10.0155</td>\n",
       "      <td>40.036185</td>\n",
       "      <td>0.954823</td>\n",
       "    </tr>\n",
       "    <tr>\n",
       "      <th>2021-01-22</th>\n",
       "      <td>0.03</td>\n",
       "      <td>NAVI</td>\n",
       "      <td>financial</td>\n",
       "      <td>Long</td>\n",
       "      <td>1</td>\n",
       "      <td>{728.0: 8211.84}</td>\n",
       "      <td>{2021-01-22: 11.28}</td>\n",
       "      <td>{2021-09-29: 21.25}</td>\n",
       "      <td>min of 10</td>\n",
       "      <td>7258.16</td>\n",
       "      <td>0.638455</td>\n",
       "      <td>0.4859</td>\n",
       "      <td>10.1045</td>\n",
       "      <td>40.735693</td>\n",
       "      <td>0.898752</td>\n",
       "    </tr>\n",
       "    <tr>\n",
       "      <th>2021-02-18</th>\n",
       "      <td>0.04</td>\n",
       "      <td>NAVI</td>\n",
       "      <td>financial</td>\n",
       "      <td>Long</td>\n",
       "      <td>1</td>\n",
       "      <td>{900.0: 10881.0}</td>\n",
       "      <td>{2021-02-18: 12.09}</td>\n",
       "      <td>{2021-09-29: 21.25}</td>\n",
       "      <td>min of 10</td>\n",
       "      <td>8244.0</td>\n",
       "      <td>0.497288</td>\n",
       "      <td>0.5481</td>\n",
       "      <td>11.198</td>\n",
       "      <td>41.003336</td>\n",
       "      <td>0.814158</td>\n",
       "    </tr>\n",
       "    <tr>\n",
       "      <th>2021-09-30</th>\n",
       "      <td>0.05</td>\n",
       "      <td>NAVI</td>\n",
       "      <td>financial</td>\n",
       "      <td>Short</td>\n",
       "      <td>1</td>\n",
       "      <td>{136.0: 2683.28}</td>\n",
       "      <td>{2021-09-30: 19.73}</td>\n",
       "      <td>{2021-12-07: 21.0}</td>\n",
       "      <td>min of 10</td>\n",
       "      <td>-172.72</td>\n",
       "      <td>1.156559</td>\n",
       "      <td>0.7391</td>\n",
       "      <td>22.34975</td>\n",
       "      <td>40.947029</td>\n",
       "      <td>0.136419</td>\n",
       "    </tr>\n",
       "    <tr>\n",
       "      <th>2021-12-08</th>\n",
       "      <td>0.06</td>\n",
       "      <td>NAVI</td>\n",
       "      <td>financial</td>\n",
       "      <td>Long</td>\n",
       "      <td>1</td>\n",
       "      <td>{140.0: 2909.2}</td>\n",
       "      <td>{2021-12-08: 20.78}</td>\n",
       "      <td>{2021-12-30: 21.43}</td>\n",
       "      <td>out of per</td>\n",
       "      <td>91.0</td>\n",
       "      <td>0.682517</td>\n",
       "      <td>0.6835</td>\n",
       "      <td>20.0175</td>\n",
       "      <td>38.132817</td>\n",
       "      <td>0.588832</td>\n",
       "    </tr>\n",
       "    <tr>\n",
       "      <th>2021-12-20</th>\n",
       "      <td>0.07</td>\n",
       "      <td>NAVI</td>\n",
       "      <td>financial</td>\n",
       "      <td>Long</td>\n",
       "      <td>1</td>\n",
       "      <td>{146.0: 2921.46}</td>\n",
       "      <td>{2021-12-20: 20.01}</td>\n",
       "      <td>{2021-12-30: 21.43}</td>\n",
       "      <td>out of per</td>\n",
       "      <td>207.32</td>\n",
       "      <td>0.776018</td>\n",
       "      <td>0.6832</td>\n",
       "      <td>20.2205</td>\n",
       "      <td>39.519712</td>\n",
       "      <td>0.463881</td>\n",
       "    </tr>\n",
       "  </tbody>\n",
       "</table>\n",
       "</div>"
      ],
      "text/plain": [
       "              Id Ticker     Sector Direct Lot   Size/money_unit      Date/price_open     Date/price_close   Criterion   Profit       ATR       N       SMA         MI       %BB\n",
       "2021-01-06  0.01   NAVI  financial   Long   1  {416.0: 4521.92}  {2021-01-06: 10.87}  {2021-09-29: 21.25}   min of 10  4318.08  0.437575  0.4418     9.795  38.841089  1.065436\n",
       "2021-01-19  0.02   NAVI  financial   Long   1  {384.0: 4327.68}  {2021-01-19: 11.27}  {2021-09-29: 21.25}   min of 10  3832.32  0.614561    0.46   10.0155  40.036185  0.954823\n",
       "2021-01-22  0.03   NAVI  financial   Long   1  {728.0: 8211.84}  {2021-01-22: 11.28}  {2021-09-29: 21.25}   min of 10  7258.16  0.638455  0.4859   10.1045  40.735693  0.898752\n",
       "2021-02-18  0.04   NAVI  financial   Long   1  {900.0: 10881.0}  {2021-02-18: 12.09}  {2021-09-29: 21.25}   min of 10   8244.0  0.497288  0.5481    11.198  41.003336  0.814158\n",
       "2021-09-30  0.05   NAVI  financial  Short   1  {136.0: 2683.28}  {2021-09-30: 19.73}   {2021-12-07: 21.0}   min of 10  -172.72  1.156559  0.7391  22.34975  40.947029  0.136419\n",
       "2021-12-08  0.06   NAVI  financial   Long   1   {140.0: 2909.2}  {2021-12-08: 20.78}  {2021-12-30: 21.43}  out of per     91.0  0.682517  0.6835   20.0175  38.132817  0.588832\n",
       "2021-12-20  0.07   NAVI  financial   Long   1  {146.0: 2921.46}  {2021-12-20: 20.01}  {2021-12-30: 21.43}  out of per   207.32  0.776018  0.6832   20.2205  39.519712  0.463881"
      ]
     },
     "metadata": {},
     "output_type": "display_data"
    }
   ],
   "source": [
    "def one_stock_chart(data_pos_test, ticker):\n",
    "    date_from = datetime.date(2021, 1, 1)\n",
    "    date_to = datetime.date(2021, 12, 30)\n",
    "    candlestick(stocks_dict_full_csv_big, data_pos_test, ticker, date_from, date_to)\n",
    "    display(data_pos_test.query('Ticker == @ticker and @date_from<index<@date_to'))\n",
    "# display(data_pos_test)\n",
    "# data_pos_test = data_pos_test.query('Direct == \"Short\"')\n",
    "one_stock_chart(data_pos_test, 'NAVI')\n",
    "# one_stock_chart(data_pos_test4, 'FOE')\n",
    "# date_from = datetime.date(2019, 2, 1)\n",
    "# date_to = datetime.date(2019, 8, 30)\n",
    "# display(stocks_dict_full_csv_big['MDLZ'].loc[date_from:date_to, :].head(30))\n",
    "# display(data_pos_test1)"
   ]
  },
  {
   "cell_type": "markdown",
   "id": "c4e54a5a",
   "metadata": {},
   "source": [
    "## Анализ"
   ]
  },
  {
   "cell_type": "code",
   "execution_count": 166,
   "id": "94cea8a9",
   "metadata": {
    "scrolled": false
   },
   "outputs": [
    {
     "data": {
      "text/plain": [
       "Criterion\n",
       "min of 10     2879\n",
       "out of per     514\n",
       "Name: Criterion, dtype: int64"
      ]
     },
     "metadata": {},
     "output_type": "display_data"
    },
    {
     "data": {
      "text/html": [
       "<div>\n",
       "<style scoped>\n",
       "    .dataframe tbody tr th:only-of-type {\n",
       "        vertical-align: middle;\n",
       "    }\n",
       "\n",
       "    .dataframe tbody tr th {\n",
       "        vertical-align: top;\n",
       "    }\n",
       "\n",
       "    .dataframe thead th {\n",
       "        text-align: right;\n",
       "    }\n",
       "</style>\n",
       "<table border=\"1\" class=\"dataframe\">\n",
       "  <thead>\n",
       "    <tr style=\"text-align: right;\">\n",
       "      <th></th>\n",
       "      <th>Pr_count</th>\n",
       "      <th>Loss_count</th>\n",
       "      <th>Max_pr</th>\n",
       "      <th>Max_loss</th>\n",
       "      <th>Max_loss_count</th>\n",
       "      <th>Max_drawdown</th>\n",
       "      <th>Short_pr</th>\n",
       "      <th>Short_count</th>\n",
       "      <th>Long_pr</th>\n",
       "      <th>Long_count</th>\n",
       "      <th>Open_pos</th>\n",
       "    </tr>\n",
       "  </thead>\n",
       "  <tbody>\n",
       "    <tr>\n",
       "      <th>0</th>\n",
       "      <td>1133</td>\n",
       "      <td>2260</td>\n",
       "      <td>4318.08</td>\n",
       "      <td>-1530.08</td>\n",
       "      <td>NaN</td>\n",
       "      <td>-2443.56</td>\n",
       "      <td>NaN</td>\n",
       "      <td>NaN</td>\n",
       "      <td>NaN</td>\n",
       "      <td>NaN</td>\n",
       "      <td>NaN</td>\n",
       "    </tr>\n",
       "  </tbody>\n",
       "</table>\n",
       "</div>"
      ],
      "text/plain": [
       "  Pr_count Loss_count   Max_pr Max_loss Max_loss_count Max_drawdown Short_pr Short_count Long_pr Long_count Open_pos\n",
       "0     1133       2260  4318.08 -1530.08            NaN     -2443.56      NaN         NaN     NaN        NaN      NaN"
      ]
     },
     "metadata": {},
     "output_type": "display_data"
    },
    {
     "name": "stdout",
     "output_type": "stream",
     "text": [
      "Уникальных инструментов: 444\n",
      "Прибыль по всем позициям: -462\n",
      "Максимальная позиция: 24997.19\n",
      "---------------------------------------------\n",
      "Убыточных сделок подряд: 20\n",
      "Максимальная просадка: -2443.56\n",
      "---------------------------------------------\n",
      "Прибыль/кол-во по коротким позициям: 0/0\n",
      "Прибыль/кол-во по длинным позициям: 0/0\n",
      "---------------------------------------------\n",
      "Суммарно убыточных сделок: -213863.0\n",
      "Суммарно прибыльных сделок: 213401.0\n",
      "Оборот: 5171365\n",
      "---------------------------------------------\n"
     ]
    },
    {
     "data": {
      "text/plain": [
       "None"
      ]
     },
     "metadata": {},
     "output_type": "display_data"
    },
    {
     "data": {
      "text/html": [
       "<div>\n",
       "<style scoped>\n",
       "    .dataframe tbody tr th:only-of-type {\n",
       "        vertical-align: middle;\n",
       "    }\n",
       "\n",
       "    .dataframe tbody tr th {\n",
       "        vertical-align: top;\n",
       "    }\n",
       "\n",
       "    .dataframe thead th {\n",
       "        text-align: right;\n",
       "    }\n",
       "</style>\n",
       "<table border=\"1\" class=\"dataframe\">\n",
       "  <thead>\n",
       "    <tr style=\"text-align: right;\">\n",
       "      <th></th>\n",
       "      <th>ticker</th>\n",
       "      <th>sum_profit</th>\n",
       "      <th>count_all</th>\n",
       "      <th>min</th>\n",
       "      <th>max</th>\n",
       "      <th>mean</th>\n",
       "      <th>median</th>\n",
       "    </tr>\n",
       "  </thead>\n",
       "  <tbody>\n",
       "    <tr>\n",
       "      <th>76</th>\n",
       "      <td>CCXI</td>\n",
       "      <td>11313.10</td>\n",
       "      <td>12</td>\n",
       "      <td>-215.60</td>\n",
       "      <td>4098.60</td>\n",
       "      <td>942.758333</td>\n",
       "      <td>-29.90</td>\n",
       "    </tr>\n",
       "    <tr>\n",
       "      <th>260</th>\n",
       "      <td>NAVI</td>\n",
       "      <td>9029.84</td>\n",
       "      <td>7</td>\n",
       "      <td>-172.72</td>\n",
       "      <td>4318.08</td>\n",
       "      <td>1289.977143</td>\n",
       "      <td>1111.50</td>\n",
       "    </tr>\n",
       "    <tr>\n",
       "      <th>379</th>\n",
       "      <td>TCS</td>\n",
       "      <td>7934.86</td>\n",
       "      <td>9</td>\n",
       "      <td>-73.26</td>\n",
       "      <td>2314.08</td>\n",
       "      <td>881.651111</td>\n",
       "      <td>23.52</td>\n",
       "    </tr>\n",
       "    <tr>\n",
       "      <th>223</th>\n",
       "      <td>LPL</td>\n",
       "      <td>6698.76</td>\n",
       "      <td>10</td>\n",
       "      <td>-678.00</td>\n",
       "      <td>3041.52</td>\n",
       "      <td>669.876000</td>\n",
       "      <td>604.32</td>\n",
       "    </tr>\n",
       "    <tr>\n",
       "      <th>142</th>\n",
       "      <td>F</td>\n",
       "      <td>4352.16</td>\n",
       "      <td>10</td>\n",
       "      <td>-317.30</td>\n",
       "      <td>2060.80</td>\n",
       "      <td>435.216000</td>\n",
       "      <td>165.60</td>\n",
       "    </tr>\n",
       "    <tr>\n",
       "      <th>...</th>\n",
       "      <td>...</td>\n",
       "      <td>...</td>\n",
       "      <td>...</td>\n",
       "      <td>...</td>\n",
       "      <td>...</td>\n",
       "      <td>...</td>\n",
       "      <td>...</td>\n",
       "    </tr>\n",
       "    <tr>\n",
       "      <th>183</th>\n",
       "      <td>HST</td>\n",
       "      <td>-2383.26</td>\n",
       "      <td>12</td>\n",
       "      <td>-569.40</td>\n",
       "      <td>291.84</td>\n",
       "      <td>-198.605000</td>\n",
       "      <td>-203.48</td>\n",
       "    </tr>\n",
       "    <tr>\n",
       "      <th>371</th>\n",
       "      <td>SWN</td>\n",
       "      <td>-2716.40</td>\n",
       "      <td>9</td>\n",
       "      <td>-972.08</td>\n",
       "      <td>1054.68</td>\n",
       "      <td>-301.822222</td>\n",
       "      <td>-518.00</td>\n",
       "    </tr>\n",
       "    <tr>\n",
       "      <th>133</th>\n",
       "      <td>ETRN</td>\n",
       "      <td>-2746.24</td>\n",
       "      <td>11</td>\n",
       "      <td>-583.20</td>\n",
       "      <td>463.24</td>\n",
       "      <td>-249.658182</td>\n",
       "      <td>-350.40</td>\n",
       "    </tr>\n",
       "    <tr>\n",
       "      <th>231</th>\n",
       "      <td>MBT</td>\n",
       "      <td>-4451.96</td>\n",
       "      <td>9</td>\n",
       "      <td>-1206.58</td>\n",
       "      <td>1115.52</td>\n",
       "      <td>-494.662222</td>\n",
       "      <td>-622.88</td>\n",
       "    </tr>\n",
       "    <tr>\n",
       "      <th>280</th>\n",
       "      <td>OGZD@GS</td>\n",
       "      <td>-4604.64</td>\n",
       "      <td>5</td>\n",
       "      <td>-1530.08</td>\n",
       "      <td>-367.40</td>\n",
       "      <td>-920.928000</td>\n",
       "      <td>-857.60</td>\n",
       "    </tr>\n",
       "  </tbody>\n",
       "</table>\n",
       "<p>444 rows × 7 columns</p>\n",
       "</div>"
      ],
      "text/plain": [
       "      ticker  sum_profit  count_all      min      max         mean   median\n",
       "76      CCXI    11313.10         12  -215.60  4098.60   942.758333   -29.90\n",
       "260     NAVI     9029.84          7  -172.72  4318.08  1289.977143  1111.50\n",
       "379      TCS     7934.86          9   -73.26  2314.08   881.651111    23.52\n",
       "223      LPL     6698.76         10  -678.00  3041.52   669.876000   604.32\n",
       "142        F     4352.16         10  -317.30  2060.80   435.216000   165.60\n",
       "..       ...         ...        ...      ...      ...          ...      ...\n",
       "183      HST    -2383.26         12  -569.40   291.84  -198.605000  -203.48\n",
       "371      SWN    -2716.40          9  -972.08  1054.68  -301.822222  -518.00\n",
       "133     ETRN    -2746.24         11  -583.20   463.24  -249.658182  -350.40\n",
       "231      MBT    -4451.96          9 -1206.58  1115.52  -494.662222  -622.88\n",
       "280  OGZD@GS    -4604.64          5 -1530.08  -367.40  -920.928000  -857.60\n",
       "\n",
       "[444 rows x 7 columns]"
      ]
     },
     "metadata": {},
     "output_type": "display_data"
    },
    {
     "name": "stdout",
     "output_type": "stream",
     "text": [
      "                Id\n",
      "count  3393.000000\n",
      "mean     16.970000\n",
      "std       9.796191\n",
      "min       0.010000\n",
      "25%       8.490000\n",
      "50%      16.970000\n",
      "75%      25.450000\n",
      "max      33.930000\n"
     ]
    },
    {
     "data": {
      "text/html": [
       "<div>\n",
       "<style scoped>\n",
       "    .dataframe tbody tr th:only-of-type {\n",
       "        vertical-align: middle;\n",
       "    }\n",
       "\n",
       "    .dataframe tbody tr th {\n",
       "        vertical-align: top;\n",
       "    }\n",
       "\n",
       "    .dataframe thead th {\n",
       "        text-align: right;\n",
       "    }\n",
       "</style>\n",
       "<table border=\"1\" class=\"dataframe\">\n",
       "  <thead>\n",
       "    <tr style=\"text-align: right;\">\n",
       "      <th></th>\n",
       "      <th>Profit</th>\n",
       "    </tr>\n",
       "    <tr>\n",
       "      <th>Ticker</th>\n",
       "      <th></th>\n",
       "    </tr>\n",
       "  </thead>\n",
       "  <tbody>\n",
       "    <tr>\n",
       "      <th>CCXI</th>\n",
       "      <td>11313.10</td>\n",
       "    </tr>\n",
       "    <tr>\n",
       "      <th>NAVI</th>\n",
       "      <td>9029.84</td>\n",
       "    </tr>\n",
       "    <tr>\n",
       "      <th>TCS</th>\n",
       "      <td>7934.86</td>\n",
       "    </tr>\n",
       "    <tr>\n",
       "      <th>LPL</th>\n",
       "      <td>6698.76</td>\n",
       "    </tr>\n",
       "    <tr>\n",
       "      <th>F</th>\n",
       "      <td>4352.16</td>\n",
       "    </tr>\n",
       "    <tr>\n",
       "      <th>M</th>\n",
       "      <td>3475.28</td>\n",
       "    </tr>\n",
       "    <tr>\n",
       "      <th>EVH</th>\n",
       "      <td>3399.62</td>\n",
       "    </tr>\n",
       "    <tr>\n",
       "      <th>MAA</th>\n",
       "      <td>2683.92</td>\n",
       "    </tr>\n",
       "    <tr>\n",
       "      <th>WIRE</th>\n",
       "      <td>2652.48</td>\n",
       "    </tr>\n",
       "    <tr>\n",
       "      <th>MRO</th>\n",
       "      <td>2623.76</td>\n",
       "    </tr>\n",
       "  </tbody>\n",
       "</table>\n",
       "</div>"
      ],
      "text/plain": [
       "          Profit\n",
       "Ticker          \n",
       "CCXI    11313.10\n",
       "NAVI     9029.84\n",
       "TCS      7934.86\n",
       "LPL      6698.76\n",
       "F        4352.16\n",
       "M        3475.28\n",
       "EVH      3399.62\n",
       "MAA      2683.92\n",
       "WIRE     2652.48\n",
       "MRO      2623.76"
      ]
     },
     "metadata": {},
     "output_type": "display_data"
    },
    {
     "data": {
      "text/html": [
       "<div>\n",
       "<style scoped>\n",
       "    .dataframe tbody tr th:only-of-type {\n",
       "        vertical-align: middle;\n",
       "    }\n",
       "\n",
       "    .dataframe tbody tr th {\n",
       "        vertical-align: top;\n",
       "    }\n",
       "\n",
       "    .dataframe thead th {\n",
       "        text-align: right;\n",
       "    }\n",
       "</style>\n",
       "<table border=\"1\" class=\"dataframe\">\n",
       "  <thead>\n",
       "    <tr style=\"text-align: right;\">\n",
       "      <th></th>\n",
       "      <th>Profit</th>\n",
       "    </tr>\n",
       "    <tr>\n",
       "      <th>Ticker</th>\n",
       "      <th></th>\n",
       "    </tr>\n",
       "  </thead>\n",
       "  <tbody>\n",
       "    <tr>\n",
       "      <th>MDLZ</th>\n",
       "      <td>-1650.40</td>\n",
       "    </tr>\n",
       "    <tr>\n",
       "      <th>MANU</th>\n",
       "      <td>-1771.62</td>\n",
       "    </tr>\n",
       "    <tr>\n",
       "      <th>LUMN</th>\n",
       "      <td>-1796.48</td>\n",
       "    </tr>\n",
       "    <tr>\n",
       "      <th>CLF</th>\n",
       "      <td>-2027.74</td>\n",
       "    </tr>\n",
       "    <tr>\n",
       "      <th>KDP</th>\n",
       "      <td>-2103.88</td>\n",
       "    </tr>\n",
       "    <tr>\n",
       "      <th>HST</th>\n",
       "      <td>-2383.26</td>\n",
       "    </tr>\n",
       "    <tr>\n",
       "      <th>SWN</th>\n",
       "      <td>-2716.40</td>\n",
       "    </tr>\n",
       "    <tr>\n",
       "      <th>ETRN</th>\n",
       "      <td>-2746.24</td>\n",
       "    </tr>\n",
       "    <tr>\n",
       "      <th>MBT</th>\n",
       "      <td>-4451.96</td>\n",
       "    </tr>\n",
       "    <tr>\n",
       "      <th>OGZD@GS</th>\n",
       "      <td>-4604.64</td>\n",
       "    </tr>\n",
       "  </tbody>\n",
       "</table>\n",
       "</div>"
      ],
      "text/plain": [
       "          Profit\n",
       "Ticker          \n",
       "MDLZ    -1650.40\n",
       "MANU    -1771.62\n",
       "LUMN    -1796.48\n",
       "CLF     -2027.74\n",
       "KDP     -2103.88\n",
       "HST     -2383.26\n",
       "SWN     -2716.40\n",
       "ETRN    -2746.24\n",
       "MBT     -4451.96\n",
       "OGZD@GS -4604.64"
      ]
     },
     "metadata": {},
     "output_type": "display_data"
    },
    {
     "data": {
      "text/html": [
       "<div>\n",
       "<style scoped>\n",
       "    .dataframe tbody tr th:only-of-type {\n",
       "        vertical-align: middle;\n",
       "    }\n",
       "\n",
       "    .dataframe tbody tr th {\n",
       "        vertical-align: top;\n",
       "    }\n",
       "\n",
       "    .dataframe thead th {\n",
       "        text-align: right;\n",
       "    }\n",
       "</style>\n",
       "<table border=\"1\" class=\"dataframe\">\n",
       "  <thead>\n",
       "    <tr style=\"text-align: right;\">\n",
       "      <th></th>\n",
       "      <th>Profit</th>\n",
       "    </tr>\n",
       "    <tr>\n",
       "      <th>Sector</th>\n",
       "      <th></th>\n",
       "    </tr>\n",
       "  </thead>\n",
       "  <tbody>\n",
       "    <tr>\n",
       "      <th>consumer</th>\n",
       "      <td>-737.04</td>\n",
       "    </tr>\n",
       "    <tr>\n",
       "      <th>energy</th>\n",
       "      <td>-7794.24</td>\n",
       "    </tr>\n",
       "    <tr>\n",
       "      <th>financial</th>\n",
       "      <td>18098.24</td>\n",
       "    </tr>\n",
       "    <tr>\n",
       "      <th>green_buildings</th>\n",
       "      <td>337.40</td>\n",
       "    </tr>\n",
       "    <tr>\n",
       "      <th>health_care</th>\n",
       "      <td>9968.90</td>\n",
       "    </tr>\n",
       "    <tr>\n",
       "      <th>industrials</th>\n",
       "      <td>-7310.44</td>\n",
       "    </tr>\n",
       "    <tr>\n",
       "      <th>it</th>\n",
       "      <td>3177.74</td>\n",
       "    </tr>\n",
       "    <tr>\n",
       "      <th>materials</th>\n",
       "      <td>-2797.06</td>\n",
       "    </tr>\n",
       "    <tr>\n",
       "      <th>real_estate</th>\n",
       "      <td>1017.66</td>\n",
       "    </tr>\n",
       "    <tr>\n",
       "      <th>telecom</th>\n",
       "      <td>-13915.02</td>\n",
       "    </tr>\n",
       "    <tr>\n",
       "      <th>utilities</th>\n",
       "      <td>-508.48</td>\n",
       "    </tr>\n",
       "  </tbody>\n",
       "</table>\n",
       "</div>"
      ],
      "text/plain": [
       "                   Profit\n",
       "Sector                   \n",
       "consumer          -737.04\n",
       "energy           -7794.24\n",
       "financial        18098.24\n",
       "green_buildings    337.40\n",
       "health_care       9968.90\n",
       "industrials      -7310.44\n",
       "it                3177.74\n",
       "materials        -2797.06\n",
       "real_estate       1017.66\n",
       "telecom         -13915.02\n",
       "utilities         -508.48"
      ]
     },
     "metadata": {},
     "output_type": "display_data"
    },
    {
     "data": {
      "image/png": "[encoded data removed]",
      "text/plain": [
       "<Figure size 432x288 with 1 Axes>"
      ]
     },
     "metadata": {
      "needs_background": "light"
     },
     "output_type": "display_data"
    },
    {
     "data": {
      "image/png": "[encoded data removed]",
      "text/plain": [
       "<Figure size 432x288 with 1 Axes>"
      ]
     },
     "metadata": {
      "needs_background": "light"
     },
     "output_type": "display_data"
    }
   ],
   "source": [
    "# Считает какие сделки были открыты в определенный период времени. \n",
    "# Удобно когда нужно понять почему не открылись те или иные сделки\n",
    "# start = datetime.date(1997, 10, 29) # date - timedelta(days=mmd_period)\n",
    "# end = datetime.date(1998, 4, 29) # date - timedelta(days=1)i\n",
    "# display(data_pos_test.loc[start:end, :])\n",
    "\n",
    "# display(data_pos_test3.pivot_table(index=['Sector'], columns=['Criterion'], values='Profit', aggfunc='sum'))\n",
    "def sum_analytics(data_pos_test):\n",
    "    data_pos_pivot_test = analytics_v2(data_pos_test) \n",
    "    print(data_pos_test.describe())\n",
    "    profile_test(data_pos_test)\n",
    "    data_pos_test.sort_values(by='Profit').tail(15)\n",
    "    analysis_one_stock('IDCC', data_pos_test, data_pos_pivot_test, stocks_dict_full_csv_big)\n",
    "sum_analytics(data_pos_test4)"
   ]
  },
  {
   "cell_type": "markdown",
   "id": "c5a2bcbe",
   "metadata": {},
   "source": [
    "# Функции исл."
   ]
  },
  {
   "cell_type": "markdown",
   "id": "f9f4bd36",
   "metadata": {},
   "source": [
    "## analytics_v2"
   ]
  },
  {
   "cell_type": "code",
   "execution_count": 3,
   "id": "dcbb4908",
   "metadata": {},
   "outputs": [],
   "source": [
    "# %run tinkoff_connection.ipynb\n",
    "def analytics_v2(data_pos):\n",
    "    \"\"\" Функция выводит аналитику по полученным сделкам и вычисляет profit_ticker и loss_tickers\"\"\"\n",
    "    # %run tinkoff_connection.ipynb\n",
    "#     data_pos = data_pos.query('0.05<N<1')\n",
    "#     data_pos = data_pos[data_pos['CSMA'] <= 6]\n",
    "#     data_pos = data_pos[data_pos['MBs'] <= 100]\n",
    "    # ДФ сделок  \n",
    "#     print(data_pos)\n",
    "    data_profit = data_pos[data_pos.loc[:, 'Profit'] > 0]\n",
    "    data_loss = data_pos[data_pos.loc[:, 'Profit'] < 0]\n",
    "    display(data_pos.groupby(by='Criterion')['Criterion'].count())\n",
    "    \n",
    "    # Суммарно по сдлекам\n",
    "    display(create_analytical(data_pos)) \n",
    "    # Сводная таблица по тикерам и их доходностью\n",
    "    data_pos_pivot = data_pos.pivot_table(index='Ticker', values=['Profit'], aggfunc=['sum', 'count', 'min', 'max', 'mean',\n",
    "                                                                                      'median']).reset_index()\n",
    "#                                             by='max')\n",
    "    data_pos_pivot.columns = ['ticker','sum_profit', 'count_all', 'min', 'max', 'mean', 'median']\n",
    "    data_pos_pivot = data_pos_pivot.sort_values(by='max')\n",
    "    data_pos_pivot = data_pos_pivot.sort_values(by='sum_profit', ascending=False)#.reset_index(drop=True)\n",
    "    # Тикеры самых прибыльных и убыточных акций \n",
    "    pivot_profit_tickers = data_pos_pivot.head(5) # Топ 5 прибыльных акций\n",
    "    pivot_loss_tickers = data_pos_pivot.tail(10) # Топ 5 убыточных акций\n",
    "    # sort_values(by='sum')\n",
    "    display(data_pos_pivot) # Сводная таблица по всем тикерам и открытым по ним сделкам\n",
    "    # График корреляции \n",
    "#     display(loss_tickers.style.background_gradient(cmap='coolwarm'))\n",
    "\n",
    "    \n",
    "    return data_pos_pivot\n",
    "\n",
    "\n",
    "# display(round(data_pos_pivot_test.describe(), 2)) # Описание столбцов"
   ]
  },
  {
   "cell_type": "markdown",
   "id": "6dc040c6",
   "metadata": {},
   "source": [
    "## analysis_one_stock"
   ]
  },
  {
   "cell_type": "code",
   "execution_count": 4,
   "id": "eed4eb67",
   "metadata": {
    "scrolled": true
   },
   "outputs": [],
   "source": [
    "def analysis_one_stock(ticker, \n",
    "                       data_pos,\n",
    "                       data_pos_pivot, # Сводная таблица по позициям каждого тикера\n",
    "                       stocks_dict_full):\n",
    "    \"\"\" Функция выводит scatterplot график \"\"\"\n",
    "#     data_pos = data_pos[data_pos['CSMA'] <= 6]\n",
    "#     data_pos = data_pos[data_pos['MBs'] <= 100] \n",
    "    PL_index = data_pos_pivot.index # Тикеры переданных акций\n",
    "#     print('Тикеры открытых позиций', data_pos_pivot.index)\n",
    "    stock_quotes = stocks_dict_full[ticker] # Датафрейм котировок акции\n",
    "    \n",
    "    one_stock_pos_index = data_pos[data_pos.loc[:, 'Ticker']==ticker].index # Числа, когда были открыты сделки\n",
    "#### Индексы профитовых и убыточных сделок\n",
    "    stock_profit_index = data_pos.query(\"Ticker==@ticker and Profit>0\").index\n",
    "    stock_loss_index = data_pos.query(\"Ticker==@ticker and Profit<0\").index\n",
    "#### ДФ котировок открытых позиций \n",
    "    stock_quotes = stocks_dict_full[ticker] \n",
    "    profit_quotes = stocks_dict_full[ticker].loc[stock_profit_index] # Котировки прибыльных\n",
    "    loss_quotes = stocks_dict_full[ticker].loc[stock_loss_index] # Котировки убыточных\n",
    "#     display('Котировки прибыльных сделок', profit_quotes)\n",
    "    \n",
    "#     one_stock_quotes_pos = stocks_dict_full[ticker].loc[one_stock_pos_index] # Котировки по открытым позициям\n",
    "    ticker_pos = data_pos[data_pos['Ticker'] == ticker]#.sort_values(by='Profit', ascending=False) # ДФ открытых сделок\n",
    "#     display(data_pos[data_pos.loc[:,'Ticker'] == ticker].sort_index().head(20))\n",
    "    \n",
    "####     ГРАФИКИ\n",
    "#     atr_f = atr_f.dropna(subset=['N']) # Котировки по акции, кроме первых там где рассчитывается ATR\n",
    "#     sns.histplot(atr_f['ATR'], bins=100)\n",
    "    plt.show()\n",
    "#     sns.scatterplot(y='N', x='ATR', data=profit_quotes, alpha=1) # Рапределение ATR прибыльных сделок (СИНИЕ)\n",
    "#     sns.scatterplot(y='N', x='ATR', data=loss_quotes, alpha=0.8) #Рапределение ATR убыточных сделок (ЖЕЛТЫЕ)\n",
    "#     data_pos['corr'] = data['Date/price_close']\n",
    "    \n",
    "#     sns.scatterplot(y='CSMA', x='Profit', data=data_pos, alpha=0.5) #График по открытым сделкам\n",
    "#     plt.show()\n",
    "    sns.scatterplot(y='%BB', x='Profit', data=data_pos, alpha=0.5) #График по открытым сделкам\n",
    "    plt.show()\n",
    "    sns.scatterplot(y='MI', x='Profit', data=data_pos, alpha=0.5) #График по открытым сделкам\n",
    "    plt.show()\n",
    "#     sns.scatterplot(y='PVn', x='Profit', data=data_pos, alpha=0.5) #График по открытым сделкам\n",
    "#     plt.show()\n",
    "#     sns.scatterplot(y='MBl', x='Profit', data=data_pos, alpha=0.5) #График по открытым сделкам\n",
    "# #     sns.scatterplot(y='MBs', x='Profit', data=data_pos, alpha=0.5) #График по открытым сделкам\n",
    "#     plt.show()\n",
    "#     sns.scatterplot(y='MBs', x='Profit', data=data_pos, alpha=0.5) #График по открытым сделкам\n",
    "# #     sns.scatterplot(y='MBs', x='Profit', data=data_pos, alpha=0.5) #График по открытым сделкам\n",
    "#     plt.show()\n",
    "####    # Корреляция\n",
    "#     display(data_pos.reset_index(drop=True).style.background_gradient(cmap='coolwarm'))\n",
    "# data_pos_pivot_test = analytics_v2(data_pos_test) \n",
    "\n",
    "\n",
    "# analysis_one_stock('NAVI', data_pos_test, data_pos_pivot_test, stocks_dict_full)\n",
    "# analysis_one_stock('AAPL', data_pos_test1, data_pos_pivot_test, stocks_dict_full)"
   ]
  },
  {
   "cell_type": "markdown",
   "id": "4a9a7d86",
   "metadata": {},
   "source": [
    "## profile_test"
   ]
  },
  {
   "cell_type": "code",
   "execution_count": 5,
   "id": "95799f99",
   "metadata": {},
   "outputs": [],
   "source": [
    "def  sample_pos(data_pos):\n",
    "    \"\"\" Функция выбирает максимально прибылье сделки и выборка наиболее прибыльных акций, аналогично наоборот для убыточных\"\"\"\n",
    "    data_max_profit = data_pos.sort_values(ascending=False, by='Profit').head(250) # Прибыльные сделки\n",
    "    pivot_max_profit = data_pos_pivot.head(30) # Сводная таблица по прибыльным сделкам\n",
    "    data_max_loss = data_pos.sort_values(ascending=True, by='Profit').head(250) # Прибыльные сделки\n",
    "    pivot_max_loss = data_pos_pivot.tail(30) # Сводная таблица по убыточным сделкам\n",
    "    \n",
    "    return (data_max_loss)\n",
    "    \n",
    "# sample_pos(data_pos_test)\n",
    "\n",
    "def profile_test(data_pos_test):\n",
    "    \"\"\" Функция показывает какие отрасли прибыльнее всего\"\"\"\n",
    "    ticker_pivot = data_pos_test.pivot_table(index=['Ticker'], values='Profit', aggfunc='sum').sort_values(by='Profit', ascending=False)\n",
    "    sector_criterion_pivot = data_pos_test.pivot_table(index=['Sector'], values='Profit', aggfunc='sum')#.sort_values(by='Profit', ascending=False)\n",
    "    close_type_pivot = data_pos_test.pivot_table(index='Criterion', values='Profit', aggfunc='count')#.sort_values(by='Profit', ascending=False)\n",
    "    \n",
    "    display(ticker_pivot.head(10))\n",
    "    display(ticker_pivot.tail(10))\n",
    "    display(sector_criterion_pivot)\n",
    "#     display(close_type_pivot)\n",
    "    \n",
    "\n",
    "# profile_test(data_pos_test)\n",
    "# cProfile.run('profile_test()', sort='cumtime')"
   ]
  },
  {
   "cell_type": "markdown",
   "id": "a0271dad",
   "metadata": {},
   "source": [
    "## candlestick"
   ]
  },
  {
   "cell_type": "code",
   "execution_count": 6,
   "id": "45a77afd",
   "metadata": {},
   "outputs": [
    {
     "data": {
      "text/html": [
       "<style>.container { width:75% !important; }</style>"
      ],
      "text/plain": [
       "<IPython.core.display.HTML object>"
      ]
     },
     "metadata": {},
     "output_type": "display_data"
    },
    {
     "name": "stdout",
     "output_type": "stream",
     "text": [
      "18537\n"
     ]
    }
   ],
   "source": [
    "%run tinkoff_connection.ipynb\n",
    "date_from = datetime.date(2021, 3, 1)\n",
    "date_to = datetime.date(2021, 10, 20)\n",
    "def candlestick(stocks_dict, data_pos, ticker, date_from, date_to):\n",
    "    \"\"\"Функция показывает на графике открытые сделки. \n",
    "       Интервал корректного отображения графика - 4 месяца\"\"\"\n",
    "    start = date_from - timedelta(days=50)\n",
    "    end = date_to + timedelta(days=30)\n",
    "    quotes = stocks_dict[ticker].loc[start:end,:] # Котировки акции за период\n",
    "    \n",
    "    # Добавляем индикатор для отрисовки на графике\n",
    "#     for i in stocks_dict.keys(): \n",
    "    quotes,gabage = BB(quotes)\n",
    "    \n",
    "    one_stock_pos = data_pos[data_pos.loc[:, 'Ticker'] == ticker ].loc[date_from:date_to,:].sort_index() # Сделки по определенной акции за период\n",
    "    t = quotes['Date']\n",
    "    o = quotes[\"Open\"]\n",
    "    h = quotes[\"High\"]\n",
    "    l = quotes[\"Low\"]\n",
    "    c = quotes[\"Close\"]\n",
    "    ind = quotes['SMA']\n",
    "    \n",
    "    plt.figure(figsize=(20,12))\n",
    "    color = [\"green\" if close_price > open_price else \"red\" for close_price, open_price in zip(c, o)]\n",
    "    plt.bar(x=t, height=np.abs(o-c), bottom=np.min((o,c), axis=0), width=0.7, color=color)\n",
    "    plt.bar(x=t, height=h-l, bottom=l, width=0.2, color=color)\n",
    "    \n",
    "    for id_pos in list(one_stock_pos['Id']): #Рисуем сделоки\n",
    "        date_open = list(one_stock_pos.loc[one_stock_pos['Id'] == id_pos, 'Date/price_open'].keys())[0]\n",
    "#     for date_open in one_stock_pos.index: # date_open - дата входа\n",
    "        date_close = list(one_stock_pos.loc[date_open, 'Date/price_close'].keys())[0]\n",
    "    \n",
    "        coor_pointer_y_out = list(one_stock_pos.loc[date_open, 'Date/price_close'].values())[0] # Куда указывает стрелка\n",
    "        coor_pointer_y_in = list(one_stock_pos.loc[date_open, 'Date/price_open'].values())[0] # Координата по Х это длина графика минус 1\n",
    "        \n",
    "        color = 'blue' if one_stock_pos.loc[one_stock_pos['Id'] == id_pos, 'Direct'][0] == 'Long' else 'coral'\n",
    "#         print(one_stock_pos.loc[one_stock_pos['Id'] == id_pos, 'Profit'][0])\n",
    "        plt.plot([date_open, date_close], [coor_pointer_y_in, coor_pointer_y_out], \n",
    "                 color=color, marker='.',  linewidth=1, markersize=5)\n",
    "        \n",
    "    plt.grid(visible=True)\n",
    "#  Настраиваем вид основных тиков:\n",
    "    plt.tick_params(axis = 'both',    #  Применяем параметры к обеим осям\n",
    "                   which = 'major',    #  Применяем параметры к основным делениям\n",
    "                   direction = 'inout',    #  Рисуем деления внутри и снаружи графика\n",
    "                   length = 7,    #  Длинна делений\n",
    "                   width = 2,     #  Ширина делений\n",
    "                   pad = 10,    #  Расстояние между черточкой и ее подписью\n",
    "                   labelsize = 12)    #  Размер подписи\n",
    "    \n",
    "#     for date in t:\n",
    "    plt.plot(t, ind, ls=':', pickradius=5) # Рисуем точку на графике\n",
    "#     print(stocks_dict_full_csv_big[ticker])\n",
    "    plt.rcParams['axes.facecolor'] = 'white'\n",
    "    plt.title(ticker)\n",
    "    plt.show()\n",
    "    print(\"Прибыль\", round(one_stock_pos['Profit'].sum(), 2))\n",
    "#     display(data_pos.query(\"Ticker==@ticker and @date_from<=index<=@date_to\"))\n",
    "        \n",
    "# candlestick(stocks_dict_full_csv_big, data_pos_test3, 'NAVI', date_from, date_to)\n",
    "        "
   ]
  },
  {
   "cell_type": "code",
   "execution_count": 7,
   "id": "91fdddd8",
   "metadata": {},
   "outputs": [],
   "source": [
    "# date_from = datetime.date(2021, 9, 1)\n",
    "# date_to = datetime.date(2021, 10, 22)\n",
    "# candlestick(stocks_dict_full_csv_big, data_pos_test, 'NAVI', date_from, date_to)\n",
    "# display(stocks_dict_full_csv_big['NAVI'].query(' @date_from<=index<=@date_to'))\n",
    "# data_pos_testa.query('Ticker == \"NAVI\"')"
   ]
  },
  {
   "cell_type": "markdown",
   "id": "366ce0ab",
   "metadata": {},
   "source": [
    "## Непрерывность котировок"
   ]
  },
  {
   "cell_type": "code",
   "execution_count": 8,
   "id": "47c60f71",
   "metadata": {},
   "outputs": [
    {
     "ename": "NameError",
     "evalue": "name 'stocks_dict_full_csv_big' is not defined",
     "output_type": "error",
     "traceback": [
      "\u001b[1;31m---------------------------------------------------------------------------\u001b[0m",
      "\u001b[1;31mNameError\u001b[0m                                 Traceback (most recent call last)",
      "File \u001b[1;32m<timed exec>:3\u001b[0m, in \u001b[0;36m<module>\u001b[1;34m\u001b[0m\n",
      "\u001b[1;31mNameError\u001b[0m: name 'stocks_dict_full_csv_big' is not defined"
     ]
    }
   ],
   "source": [
    "%%time\n",
    "date_from = datetime.date(2000, 1, 1)\n",
    "date_to = datetime.date(2021, 12, 31)\n",
    "dataaa = stocks_dict_full_csv_big['CERN'].loc[date_from:date_to, :]\n",
    "\n",
    "def continuity_time_series(data):\n",
    "    \"\"\" Функция проверяет непрерывность временного ряда, и отдает максимальную разницу в днях между соседними свечами\"\"\"\n",
    "    date_array = np.array(data.index)\n",
    "    diff_num = list(map(lambda x: x.days, np.diff(date_array))) # список с разностью соседних котировок\n",
    "    try:\n",
    "        return max(diff_num)\n",
    "    except:\n",
    "        pass\n",
    "    \n",
    "miss_list = []\n",
    "data_miss = pd.DataFrame(columns=['Ticker', 'Count'])\n",
    "for ticker in stocks_dict_full_csv_big.keys():\n",
    "    row = {'Ticker':ticker, 'Count':continuity_time_series(stocks_dict_full_csv_big[ticker])}\n",
    "#     miss_list.append(value)\n",
    "    data_miss = pd.concat([data_miss, pd.DataFrame([row])], ignore_index=True)\n",
    " \n",
    "data_miss = data_miss.sort_values(by=\"Count\", ascending=False).query('Count < 15')\n",
    "list_miss = list(data_miss['Ticker'])\n",
    "\n",
    "stocks_dict_full_csv_big = {k:v for k,v in stocks_dict_full_csv_big.items() if k in list_miss }\n",
    "sorted(list(stocks_dict_full_csv_big.keys())) == sorted(list_miss) # Проверка, что все акции с большими пропусками дропнуты"
   ]
  },
  {
   "cell_type": "code",
   "execution_count": 9,
   "id": "cf793bfa",
   "metadata": {},
   "outputs": [
    {
     "ename": "NameError",
     "evalue": "name 'list_miss' is not defined",
     "output_type": "error",
     "traceback": [
      "\u001b[1;31m---------------------------------------------------------------------------\u001b[0m",
      "\u001b[1;31mNameError\u001b[0m                                 Traceback (most recent call last)",
      "Input \u001b[1;32mIn [9]\u001b[0m, in \u001b[0;36m<module>\u001b[1;34m\u001b[0m\n\u001b[1;32m----> 1\u001b[0m \u001b[38;5;28;01mdel\u001b[39;00m list_miss\n\u001b[0;32m      2\u001b[0m \u001b[38;5;28;01mdel\u001b[39;00m data_miss\n",
      "\u001b[1;31mNameError\u001b[0m: name 'list_miss' is not defined"
     ]
    }
   ],
   "source": [
    "del list_miss\n",
    "del data_miss"
   ]
  },
  {
   "cell_type": "markdown",
   "id": "30388e8f",
   "metadata": {},
   "source": [
    "## stat_research"
   ]
  },
  {
   "cell_type": "code",
   "execution_count": null,
   "id": "bd279bd0",
   "metadata": {},
   "outputs": [],
   "source": [
    "def stat_research (data_column):\n",
    "    \"\"\"Функция проводит исследование статистики по временному ряду и рисует графики\"\"\"\n",
    "    row =  [u'JB', u'p-value', u'skew', u'kurtosis']\n",
    "    jb_test = sm.stats.stattools.jarque_bera(data_column)\n",
    "    a = np.vstack([jb_test])\n",
    "    itog = SimpleTable(a, row)\n",
    "    print (itog)\n",
    "    \n",
    "    # stocks_dict_full_csv_big['PEG']['Low'].head(5).plot(figsize=(18,20))\n",
    "    #stocks_dict_full_csv_big['PEG']['High'].head(5).plot(figsize=(18,20))\n",
    "    \n",
    "# stat_research (stocks_dict_full_csv_big['PEG']['High'])"
   ]
  },
  {
   "cell_type": "code",
   "execution_count": null,
   "id": "99042d81",
   "metadata": {},
   "outputs": [],
   "source": [
    " def chart_time_profit(data_pos, x_ax, y_ax):\n",
    "    \"\"\"Функция рисуе график зависимости прибыльности от времени\"\"\"\n",
    "    sns.scatterplot(x=x_ax, y=y_ax, data=data_pos, alpha=0.5) #График по открытым сделкам\n",
    "    \n"
   ]
  },
  {
   "cell_type": "markdown",
   "id": "31fb857c",
   "metadata": {},
   "source": [
    "Вывод:\n",
    "    Чем выше ATR тем меньше сделок с большим профитом.\n",
    "    \n",
    "Надо проверить зависимость N-Profit - Если поставить порог на N, то профит увеличивается\n",
    "Больше всего закрывается по стоп-лоссам. Почти в 10 раз чаще чем все остальные\n",
    "Слишком малые N Дают слишком большие позиции, а слишком большие N дают много лишних срабатываний. Возможно интересное условие 0.1 < N <1. Это условие хорошее для рынка в узком диапазоне консолидации"
   ]
  },
  {
   "cell_type": "markdown",
   "id": "58dab5aa",
   "metadata": {},
   "source": [
    "# Гипотезы и проверки\n"
   ]
  },
  {
   "attachments": {
    "image.png": {
     "image/png": "[encoded data removed]"
    }
   },
   "cell_type": "markdown",
   "id": "ae700661",
   "metadata": {},
   "source": [
    "Гипотеза: Выход из узкой полосы консолидации имеет хорошее соотношение риск/профит.\n",
    "Проверка, при увеличении показателя (модуль(минимум периода - максимум периода)/среднее последних 3 дней) уменьшает вероятность прибыли.\n",
    "![image.png](attachment:image.png)"
   ]
  },
  {
   "attachments": {
    "image-2.png": {
     "image/png": "[encoded data removed]"
    },
    "image.png": {
     "image/png": "[encoded data removed]"
    }
   },
   "cell_type": "markdown",
   "id": "c204c644",
   "metadata": {},
   "source": [
    "Увеличить стоплосс, и посмотреть на сколько увеличится прибыль по прибыльным позициям, то есть без учета убыточных, так как это будет имитация покупкой или продажей опциона. + вычесть премии за опционы (нужно рассчитать)\n",
    "1. Стоп-лосс = 1, dev_max_long =4, min_max_period = 10 ![image.png](attachment:image.png)\n",
    "2. Стоп-лосс = 6, dev_max_long =4, min_max_period = 10  ![image-2.png](attachment:image-2.png)"
   ]
  },
  {
   "cell_type": "markdown",
   "id": "955c09aa",
   "metadata": {},
   "source": [
    "Изучить влияние стоп лоссов и закрытия по минимуму на доходность. Собрать сводную таблицу по потерям.\n",
    "Промежуточный вывод: При угадывании общего направления тренда большие стоп лоссы, отклонения от максимума (N) не спасают при важном переходе через среднюю. В то время как замена period_min_max на казание средней заметно улучшило ситуацию. "
   ]
  },
  {
   "attachments": {
    "image.png": {
     "image/png": "[encoded data removed]"
    }
   },
   "cell_type": "markdown",
   "id": "a968c917",
   "metadata": {},
   "source": [
    "1. Проверить что будет, если выходить только на стоп лоссах и касаниях средней, без учета 2N. Стало лучше.\n",
    "\n",
    "2. Рассмотреть корреляцию цены акции и прибыльности прорыва. Гипотеза: дешевые акции имеют больше ложных прорывов. \n",
    "Видимо наоборот. Дорогие акции имеют больше ложных прорывов![image.png](attachment:image.png)"
   ]
  },
  {
   "cell_type": "markdown",
   "id": "f4fcbb2e",
   "metadata": {},
   "source": [
    "Гипотеза: Модуль разницы (high-low)/close влияет на прибыльность сделки, так как это косвенный показатель высокой волатильности.\n",
    "Вывод: Похоже на то, хотя и неявно"
   ]
  },
  {
   "cell_type": "markdown",
   "id": "acaca79c",
   "metadata": {},
   "source": [
    "Гипотеза: Чем больше период прорыва, тем больше вероятность получения прибыли.\n",
    "Вывод: Похоже что так"
   ]
  },
  {
   "cell_type": "code",
   "execution_count": null,
   "id": "5d3a6625",
   "metadata": {},
   "outputs": [],
   "source": [
    "Гипотеза: Если недавно было 2 пересечения средней, то скорее всего сделка будет убыточной"
   ]
  },
  {
   "cell_type": "markdown",
   "id": "b0d7cfb5",
   "metadata": {},
   "source": [
    "# Профилирование кода"
   ]
  },
  {
   "cell_type": "code",
   "execution_count": null,
   "id": "12e29f25",
   "metadata": {},
   "outputs": [],
   "source": [
    "#!/usr/bin/env python\n",
    "import psutil\n",
    "# gives a single float value\n",
    "psutil.cpu_percent()\n",
    "# gives an object with many fields\n",
    "psutil.virtual_memory()\n",
    "# you can convert that object to a dictionary \n",
    "dict(psutil.virtual_memory()._asdict())"
   ]
  },
  {
   "cell_type": "code",
   "execution_count": null,
   "id": "324a48f4",
   "metadata": {},
   "outputs": [],
   "source": [
    "# %run tinkoff_connection.ipynb\n",
    "# def profile_test():\n",
    "#     profits_all = {}\n",
    "#     sl = 0\n",
    "#     # year_from = 1997\n",
    "#     # stocks_list, stocks_dict_full = shuffle_dict(stocks_dict_full_csv, 200)\n",
    "#     for i in range(0, 1, 1):\n",
    "#         stocks_list, stocks_dict_full = shuffle_dict(stocks_dict_full_csv, 0, 20)\n",
    "#         warnings.filterwarnings(\"ignore\")\n",
    "#         data_pos, profit = open_turtles(\n",
    "#                                         usd_stocks, \n",
    "#                                         stocks_list,\n",
    "#                                         stocks_dict_full_csv,\n",
    "#                                         deposit = 10000,\n",
    "#                                         interval_start = 0,  \n",
    "#                                         interval_end = 20,\n",
    "#                                         corr_stop_loss = 2,\n",
    "#                                         corr_unit_size = 1, \n",
    "#                                         add_corr_N = 1,\n",
    "#                                         count_direct = 13,\n",
    "#                                         count_sector = 6,\n",
    "#                                         count_all = 20, \n",
    "#                                         dev_max_long = 2,\n",
    "#                                         min_max_period = 10,\n",
    "#                                         delta_N_add = 0.5,\n",
    "#                                         year_from = 2020)\n",
    "#         data_pos_pivot = analytics_v2(data_pos)\n",
    "#         display(round(data_pos_pivot.describe(), 2))\n",
    "#         all_profits_2.append(round(profit,2))\n",
    "#         return data_pos\n",
    "# # test = profile_test()\n",
    "# # cProfile.run('profile_test()', sort='cumtime')"
   ]
  },
  {
   "cell_type": "code",
   "execution_count": null,
   "id": "ef66c3a7",
   "metadata": {},
   "outputs": [],
   "source": [
    "# data = [[1,2,3,4], [5,6,7,8], [9, 10, 11, 12]]\n",
    "# df = pd.DataFrame(columns=['a', 'b', 'c', 'd'], data=data)\n"
   ]
  },
  {
   "cell_type": "code",
   "execution_count": null,
   "id": "89864b09",
   "metadata": {},
   "outputs": [],
   "source": [
    "# %%time\n",
    "\n",
    "# def foo():\n",
    "#     aa = 0\n",
    "#     bb = 0\n",
    "#     for i in range(0, 10000):\n",
    "#         aa +=1\n",
    "#         bb +=1\n",
    "# #         array = np.array([aa,bb])\n",
    "#         df.loc[df['a'] == 5, 'c'] = aa\n",
    "#         df.loc[df['a'] == 5, 'b'] = bb\n",
    "#     display(df)\n",
    "# foo()\n",
    "# # cProfile.run('foo()', sort='cumtime')"
   ]
  },
  {
   "cell_type": "code",
   "execution_count": null,
   "id": "88705a6a",
   "metadata": {},
   "outputs": [],
   "source": [
    "# ASCII_BITS = 8\n",
    "# def to_bin(c):\n",
    "#     \"\"\" Функция кодирует строку в двоичный код\"\"\"\n",
    "#     return bin(ord(c))[2:].zfill(ASCII_BITS)\n",
    "# def bins_str(text):\n",
    "#     \"\"\" Функция переводит двоичный код в десятичный\"\"\"\n",
    "#     bin_str = ''.join(to_bin(c) for c in text) # Строка в бинарном представлении\n",
    "#     return int(bin_str, 2) # Бинарное число переводится в десятичное\n",
    "# print(bins_str('1'))"
   ]
  }
 ],
 "metadata": {
  "kernelspec": {
   "display_name": "Python 3 (ipykernel)",
   "language": "python",
   "name": "python3"
  },
  "language_info": {
   "codemirror_mode": {
    "name": "ipython",
    "version": 3
   },
   "file_extension": ".py",
   "mimetype": "text/x-python",
   "name": "python",
   "nbconvert_exporter": "python",
   "pygments_lexer": "ipython3",
   "version": "3.10.2"
  },
  "toc": {
   "base_numbering": 1,
   "nav_menu": {},
   "number_sections": false,
   "sideBar": true,
   "skip_h1_title": false,
   "title_cell": "Table of Contents",
   "title_sidebar": "Contents",
   "toc_cell": false,
   "toc_position": {
    "height": "calc(100% - 180px)",
    "left": "10px",
    "top": "150px",
    "width": "165px"
   },
   "toc_section_display": true,
   "toc_window_display": true
  },
  "varInspector": {
   "cols": {
    "lenName": 16,
    "lenType": 16,
    "lenVar": 40
   },
   "kernels_config": {
    "python": {
     "delete_cmd_postfix": "",
     "delete_cmd_prefix": "del ",
     "library": "var_list.py",
     "varRefreshCmd": "print(var_dic_list())"
    },
    "r": {
     "delete_cmd_postfix": ") ",
     "delete_cmd_prefix": "rm(",
     "library": "var_list.r",
     "varRefreshCmd": "cat(var_dic_list()) "
    }
   },
   "oldHeight": 522.806,
   "position": {
    "height": "412.806px",
    "left": "863.639px",
    "right": "20px",
    "top": "93px",
    "width": "741px"
   },
   "types_to_exclude": [
    "module",
    "function",
    "builtin_function_or_method",
    "instance",
    "_Feature"
   ],
   "varInspector_section_display": "block",
   "window_display": false
  }
 },
 "nbformat": 4,
 "nbformat_minor": 5
}
